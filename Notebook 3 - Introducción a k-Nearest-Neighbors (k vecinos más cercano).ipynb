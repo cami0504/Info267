{
 "cells": [
  {
   "cell_type": "markdown",
   "metadata": {},
   "source": [
    "<h1> Notebook 3 - Introducción a k-Nearest Neighbors (kNN)</h1>"
   ]
  },
  {
   "cell_type": "markdown",
   "metadata": {},
   "source": [
    "En los notebooks anteriores, hemos visto cómo el algoritmo <i>Ordinary Least Squares</i> (OLS) podía aprender un modelo de <b>regresión lineal</b> capaz de predecir una variable <b>continua</b> (problema de regresión). Entre los enfoques de <b>aprendizaje supervisado</b>, existen métododologías permitiendo de predecir una variable <b>discreta</b> (problema de clasificación).\n",
    "\n",
    "<img src=\"supervised_learning.png\"></img>\n",
    "\n",
    "En este notebook, introducemos un algoritmo simple para resolver problemas de clasificación: el algoritmo <b>k-vecinos más cercano</b> (kNN)."
   ]
  },
  {
   "cell_type": "markdown",
   "metadata": {},
   "source": [
    "<h2> 1. Definición </h2>\n",
    "<p> El algoritmo de <b>k-vecinos más cercano</b> (kNN) es un algortimo de aprendizaje supervisado, de tipo <b>clasificación</b>. Los algoritmos de clasificación permiten predecir <b> variables <u>discretas</u></b> a partir de varias variables características (<i>features</i>).</p>\n",
    "\n",
    "El algoritmo kNN es '<i>lazy</i>', no hay aprendizaje de parametros como en el caso de OLS. kNN utiliza simplemente observaciones de entrenamiento, representadas por un vector de características donde cada observación tiene una etiqueta (su categoría). El algoritmo kNN clasifica las nuevas observaciones asignando la etiqueta más frecuente entre las muestras de entrenamiento k más cercanas a ese punto de consulta (ver Figura).\n",
    "\n",
    "<i><center><img src=\"knn.png\">¿Cuál es la categoría del punto verde según kNN?</img></center></i>\n",
    "\n",
    "Una métrica de distancia comúnmente utilizada es la <b>distancia euclídea</b> o la <b>distancia de Hamming</b>. \n",
    "\n",
    "\n"
   ]
  },
  {
   "cell_type": "markdown",
   "metadata": {},
   "source": [
    "## 2. Clasificar flores en 3 categorías con kNN"
   ]
  },
  {
   "cell_type": "markdown",
   "metadata": {},
   "source": [
    "En esta sección veremos cómo la librería Scikit-Learn de Python puede ser utilizada para implementar el algoritmo KNN en menos de 20 líneas de código.\n",
    "\n",
    "Vamos a utilizar el famoso conjunto de datos '<i>iris</i>' para nuestro ejemplo KNN. El conjunto de datos consta de cuatro atributos: anchura del sépalo, longitud del sépalo, anchura del pétalo y longitud del pétalo. Estos son los atributos de tipos específicos de plantas del iris. La tarea es predecir la clase a la que pertenecen estas plantas. Hay tres clases en el set de datos: Iris-setosa, Iris-versicolor e Iris-virgenica. Más detalles del conjunto de datos están disponibles <a href=\"https://archive.ics.uci.edu/ml/datasets/iris\">aquí</a>.\n"
   ]
  },
  {
   "cell_type": "code",
   "execution_count": 1,
   "metadata": {},
   "outputs": [],
   "source": [
    "import numpy as np  \n",
    "import matplotlib.pyplot as plt  \n",
    "import pandas as pd  "
   ]
  },
  {
   "cell_type": "markdown",
   "metadata": {},
   "source": [
    "Para importar el conjunto de datos y cargarlo en un dataframe pandas, ejecute el siguiente código:"
   ]
  },
  {
   "cell_type": "code",
   "execution_count": 2,
   "metadata": {},
   "outputs": [],
   "source": [
    "url = \"https://archive.ics.uci.edu/ml/machine-learning-databases/iris/iris.data\"\n",
    "\n",
    "# Assign colum names to the dataset\n",
    "names = ['sepal-length', 'sepal-width', 'petal-length', 'petal-width', 'Class']\n",
    "\n",
    "# Read dataset to pandas dataframe\n",
    "dataset = pd.read_csv(url, names=names) "
   ]
  },
  {
   "cell_type": "markdown",
   "metadata": {},
   "source": [
    "Para ver cómo es el conjunto de datos, ejecute el siguiente comando:"
   ]
  },
  {
   "cell_type": "code",
   "execution_count": 3,
   "metadata": {},
   "outputs": [
    {
     "data": {
      "text/html": [
       "<div>\n",
       "<style scoped>\n",
       "    .dataframe tbody tr th:only-of-type {\n",
       "        vertical-align: middle;\n",
       "    }\n",
       "\n",
       "    .dataframe tbody tr th {\n",
       "        vertical-align: top;\n",
       "    }\n",
       "\n",
       "    .dataframe thead th {\n",
       "        text-align: right;\n",
       "    }\n",
       "</style>\n",
       "<table border=\"1\" class=\"dataframe\">\n",
       "  <thead>\n",
       "    <tr style=\"text-align: right;\">\n",
       "      <th></th>\n",
       "      <th>sepal-length</th>\n",
       "      <th>sepal-width</th>\n",
       "      <th>petal-length</th>\n",
       "      <th>petal-width</th>\n",
       "      <th>Class</th>\n",
       "    </tr>\n",
       "  </thead>\n",
       "  <tbody>\n",
       "    <tr>\n",
       "      <th>0</th>\n",
       "      <td>5.1</td>\n",
       "      <td>3.5</td>\n",
       "      <td>1.4</td>\n",
       "      <td>0.2</td>\n",
       "      <td>Iris-setosa</td>\n",
       "    </tr>\n",
       "    <tr>\n",
       "      <th>1</th>\n",
       "      <td>4.9</td>\n",
       "      <td>3.0</td>\n",
       "      <td>1.4</td>\n",
       "      <td>0.2</td>\n",
       "      <td>Iris-setosa</td>\n",
       "    </tr>\n",
       "    <tr>\n",
       "      <th>2</th>\n",
       "      <td>4.7</td>\n",
       "      <td>3.2</td>\n",
       "      <td>1.3</td>\n",
       "      <td>0.2</td>\n",
       "      <td>Iris-setosa</td>\n",
       "    </tr>\n",
       "    <tr>\n",
       "      <th>3</th>\n",
       "      <td>4.6</td>\n",
       "      <td>3.1</td>\n",
       "      <td>1.5</td>\n",
       "      <td>0.2</td>\n",
       "      <td>Iris-setosa</td>\n",
       "    </tr>\n",
       "    <tr>\n",
       "      <th>4</th>\n",
       "      <td>5.0</td>\n",
       "      <td>3.6</td>\n",
       "      <td>1.4</td>\n",
       "      <td>0.2</td>\n",
       "      <td>Iris-setosa</td>\n",
       "    </tr>\n",
       "  </tbody>\n",
       "</table>\n",
       "</div>"
      ],
      "text/plain": [
       "   sepal-length  sepal-width  petal-length  petal-width        Class\n",
       "0           5.1          3.5           1.4          0.2  Iris-setosa\n",
       "1           4.9          3.0           1.4          0.2  Iris-setosa\n",
       "2           4.7          3.2           1.3          0.2  Iris-setosa\n",
       "3           4.6          3.1           1.5          0.2  Iris-setosa\n",
       "4           5.0          3.6           1.4          0.2  Iris-setosa"
      ]
     },
     "execution_count": 3,
     "metadata": {},
     "output_type": "execute_result"
    }
   ],
   "source": [
    "dataset.head() "
   ]
  },
  {
   "cell_type": "markdown",
   "metadata": {},
   "source": [
    "El siguiente paso es dividir nuestro conjunto de datos en sus atributos y etiquetas. Para ello, utilice el siguiente código. La variable <b>X</b> contiene las primeras cuatro columnas del conjunto de datos (es decir, los atributos (features)) mientras que <b>y</b> contiene las etiquetas."
   ]
  },
  {
   "cell_type": "code",
   "execution_count": 4,
   "metadata": {},
   "outputs": [],
   "source": [
    "X = dataset.iloc[:, :-1].values  \n",
    "y = dataset.iloc[:, 4].values "
   ]
  },
  {
   "cell_type": "markdown",
   "metadata": {},
   "source": [
    "Para evitar el <b>sobreajuste</b> (<i>overfitting</i>), dividiremos nuestro conjunto de datos en partes de <u>entrenamiento</u> y de <u>prueba</u>, lo que nos da una mejor idea de cómo se comportó nuestro algoritmo durante la fase de prueba. De esta manera nuestro algoritmo es probado en datos no vistos, como lo sería en una aplicación de producción.\n",
    "\n",
    "Para crear particiones de formación y de prueba, ejecute el siguiente script:"
   ]
  },
  {
   "cell_type": "code",
   "execution_count": 5,
   "metadata": {},
   "outputs": [],
   "source": [
    "from sklearn.model_selection import train_test_split  \n",
    "X_train, X_test, y_train, y_test = train_test_split(X, y, test_size=0.20) "
   ]
  },
  {
   "cell_type": "markdown",
   "metadata": {},
   "source": [
    "El script anterior divide el conjunto de datos en 80% de datos de tren y 20% de datos de prueba. Esto significa que de un total de 150 registros, el conjunto de entrenamiento contendrá 120 registros y el conjunto de pruebas contiene 30 de esos registros."
   ]
  },
  {
   "cell_type": "markdown",
   "metadata": {},
   "source": [
    "<b>Escalado de características</b> (feature scaling)\n",
    "\n",
    "Antes de hacer cualquier predicción real, siempre es una buena práctica escalar las características para que todas ellas puedan ser evaluadas uniformemente. Wikipedia explica el razonamiento bastante bien: \"<i>Since the range of values of raw data varies widely, in some machine learning algorithms, objective functions will not work properly without normalization. For example, the majority of classifiers calculate the distance between two points by the Euclidean distance. If one of the features has a broad range of values, the distance will be governed by this particular feature. Therefore, the range of all features should be normalized so that each feature contributes approximately proportionately to the final distance.</i>\""
   ]
  },
  {
   "cell_type": "code",
   "execution_count": 8,
   "metadata": {},
   "outputs": [],
   "source": [
    "from sklearn.preprocessing import StandardScaler  \n",
    "scaler = StandardScaler()  \n",
    "scaler.fit(X_train)\n",
    "\n",
    "X_train = scaler.transform(X_train)  \n",
    "X_test = scaler.transform(X_test)  "
   ]
  },
  {
   "cell_type": "markdown",
   "metadata": {},
   "source": [
    "<b>Entrenamiento y Predicciones</b>\n",
    "\n",
    "Es extremadamente sencillo entrenar el algoritmo KNN y hacer predicciones con él, especialmente cuando se utiliza Scikit-Learn.\n",
    "\n",
    "El primer paso es importar la clase KNeighborsClassifier de la biblioteca sklearn.neighbors. En la segunda línea, esta clase se inicializa con un parámetro, n_neigbours. Este es básicamente el valor para el K. No hay ningún valor ideal para el K y se selecciona después de la prueba y la evaluación, sin embargo, para empezar, 5 parece ser el valor más comúnmente utilizado para el algoritmo KNN."
   ]
  },
  {
   "cell_type": "code",
   "execution_count": 6,
   "metadata": {},
   "outputs": [
    {
     "data": {
      "text/plain": [
       "KNeighborsClassifier(algorithm='auto', leaf_size=30, metric='minkowski',\n",
       "           metric_params=None, n_jobs=1, n_neighbors=5, p=2,\n",
       "           weights='uniform')"
      ]
     },
     "execution_count": 6,
     "metadata": {},
     "output_type": "execute_result"
    }
   ],
   "source": [
    "from sklearn.neighbors import KNeighborsClassifier  \n",
    "classifier = KNeighborsClassifier(n_neighbors=5)  \n",
    "classifier.fit(X_train, y_train)  "
   ]
  },
  {
   "cell_type": "markdown",
   "metadata": {},
   "source": [
    "The final step is to make predictions on our test data. To do so, execute the following script:"
   ]
  },
  {
   "cell_type": "code",
   "execution_count": 7,
   "metadata": {},
   "outputs": [],
   "source": [
    "y_pred = classifier.predict(X_test)  "
   ]
  },
  {
   "cell_type": "markdown",
   "metadata": {},
   "source": [
    "<b>Evaluación del modelo</b>\n",
    "\n",
    "Para evaluar un modelo de clasificación, las métricas más utilizadas son la matriz de confusión, la precisión, la exhaustividad y la puntuación f1. Los métodos confusion_matrix y classification_report de las métricas sklearn.métricas pueden ser usados para calcular estas métricas. Echa un vistazo al siguiente script:"
   ]
  },
  {
   "cell_type": "code",
   "execution_count": 8,
   "metadata": {},
   "outputs": [
    {
     "name": "stdout",
     "output_type": "stream",
     "text": [
      "[[ 8  0  0]\n",
      " [ 0 11  2]\n",
      " [ 0  1  8]]\n",
      "                 precision    recall  f1-score   support\n",
      "\n",
      "    Iris-setosa       1.00      1.00      1.00         8\n",
      "Iris-versicolor       0.92      0.85      0.88        13\n",
      " Iris-virginica       0.80      0.89      0.84         9\n",
      "\n",
      "    avg / total       0.90      0.90      0.90        30\n",
      "\n"
     ]
    }
   ],
   "source": [
    "from sklearn.metrics import classification_report, confusion_matrix  \n",
    "print(confusion_matrix(y_test, y_pred))  \n",
    "print(classification_report(y_test, y_pred)) "
   ]
  },
  {
   "cell_type": "markdown",
   "metadata": {},
   "source": [
    "Los resultados muestran que nuestro modelo KNN fue capaz de clasificar los 30 registros en el conjunto de pruebas con una precisión general de 90%, lo que es relativamente bueno. Aunque el modelo funcionó muy bien con este conjunto de datos, no espere los mismos resultados con todas las aplicaciones. Como se mencionó anteriormente, KNN no siempre funciona tan bien con características de alta dimensionalidad o categóricas."
   ]
  },
  {
   "cell_type": "markdown",
   "metadata": {},
   "source": [
    "<b>Comparación de la tasa de error con el valor de K</b>\n",
    "\n",
    "En la sección de entrenamiento y predicción dijimos que no hay forma de saber de antemano qué valor de K produce los mejores resultados en el primer intento. Elegimos aleatoriamente 5 como valor de K y el resultado es una precisión del 100%.\n",
    "\n",
    "Una manera de ayudarle a encontrar el mejor valor de K es graficar el gráfico del valor de K y la tasa de error correspondiente para el conjunto de datos.\n",
    "\n",
    "En esta sección, graficaremos el error medio para los valores predichos del equipo de prueba para todos los valores de K entre 1 y 40."
   ]
  },
  {
   "cell_type": "markdown",
   "metadata": {},
   "source": [
    "Para ello, primero calculamos la media de error para todos los valores pronosticados donde K oscila entre 1 y 40. Ejecute el siguiente script:"
   ]
  },
  {
   "cell_type": "code",
   "execution_count": 9,
   "metadata": {},
   "outputs": [],
   "source": [
    "error = []\n",
    "\n",
    "# Calculating error for K values between 1 and 40\n",
    "for i in range(1, 40):  \n",
    "    knn = KNeighborsClassifier(n_neighbors=i)\n",
    "    knn.fit(X_train, y_train)\n",
    "    pred_i = knn.predict(X_test)\n",
    "    error.append(np.mean(pred_i != y_test))"
   ]
  },
  {
   "cell_type": "markdown",
   "metadata": {},
   "source": [
    "El script anterior ejecuta un bucle de 1 a 40. En cada iteración se calcula el error medio para los valores pronosticados del equipo de prueba y el resultado se adjunta a la lista de errores.\n",
    "\n",
    "El siguiente paso es graficar los valores de error contra los valores de K. Ejecute el siguiente script para crear el gráfico:"
   ]
  },
  {
   "cell_type": "code",
   "execution_count": 10,
   "metadata": {},
   "outputs": [
    {
     "data": {
      "text/plain": [
       "Text(0,0.5,'Mean Error')"
      ]
     },
     "execution_count": 10,
     "metadata": {},
     "output_type": "execute_result"
    },
    {
     "data": {
      "image/png": "[encoded data removed]",
      "text/plain": [
       "<Figure size 864x432 with 1 Axes>"
      ]
     },
     "metadata": {},
     "output_type": "display_data"
    }
   ],
   "source": [
    "plt.figure(figsize=(12, 6))  \n",
    "plt.plot(range(1, 40), error, color='red', linestyle='dashed', marker='o',  \n",
    "         markerfacecolor='blue', markersize=10)\n",
    "plt.title('Error Rate K Value')  \n",
    "plt.xlabel('K Value')  \n",
    "plt.ylabel('Mean Error')  "
   ]
  },
  {
   "cell_type": "markdown",
   "metadata": {},
   "source": [
    "<b>Pregunta</b>: ¿Cuál el valor de K que permite tomar mejores decisiones?\n",
    "\n",
    "Visualizar la clasificación de datos con varios valores de K, en 2 dimensiones:\n"
   ]
  },
  {
   "cell_type": "markdown",
   "metadata": {},
   "source": [
    "<b>Conclusión</b>\n",
    "\n",
    "KNN es un algoritmo de clasificación simple pero potente. No requiere entrenamiento para hacer predicciones, que es típicamente una de las partes más difíciles de un algoritmo de aprendizaje de máquina. El algoritmo KNN se ha utilizado ampliamente para encontrar la similitud de documentos y el reconocimiento de patrones. También se ha empleado para el desarrollo de sistemas de recomendación y para la reducción de la dimensionalidad y los pasos de preprocesamiento de la visión por computador, en particular las tareas de reconocimiento facial.\n",
    "\n",
    "A partir de aquí, le aconsejaría implementar el algoritmo KNN para un conjunto de datos de clasificación diferente. Varíe el tamaño de la prueba y el entrenamiento junto con el valor K para ver en qué se diferencian los resultados y cómo puede mejorar la precisión de su algoritmo. Una buena colección de conjuntos de datos de clasificación está disponible <a href=\"https://archive.ics.uci.edu/ml/datasets.html?format=&task=cla&att=&area=&numAtt=&numIns=&type=&sort=nameUp&view=table\">aquí</a> para que juegues con ellos."
   ]
  },
  {
   "cell_type": "markdown",
   "metadata": {},
   "source": [
    "## 3. Trabajo práctico"
   ]
  },
  {
   "cell_type": "markdown",
   "metadata": {},
   "source": [
    "Elegir otro problema de clasificación a partir de los datasets disponibles <a href=\"https://archive.ics.uci.edu/ml/datasets.html?format=&task=cla&att=&area=&numAtt=&numIns=&type=&sort=nameUp&view=table\">aquí</a>, utilizar un algoritmo kNN para resolver el problema, evaluando el modelo obtenido con una matriz de confusión."
   ]
  },
  {
   "cell_type": "code",
   "execution_count": 48,
   "metadata": {},
   "outputs": [
    {
     "data": {
      "text/html": [
       "<div>\n",
       "<style scoped>\n",
       "    .dataframe tbody tr th:only-of-type {\n",
       "        vertical-align: middle;\n",
       "    }\n",
       "\n",
       "    .dataframe tbody tr th {\n",
       "        vertical-align: top;\n",
       "    }\n",
       "\n",
       "    .dataframe thead th {\n",
       "        text-align: right;\n",
       "    }\n",
       "</style>\n",
       "<table border=\"1\" class=\"dataframe\">\n",
       "  <thead>\n",
       "    <tr style=\"text-align: right;\">\n",
       "      <th></th>\n",
       "      <th>Class Name</th>\n",
       "      <th>Left-Weight</th>\n",
       "      <th>Left-Distance</th>\n",
       "      <th>Right-Weight</th>\n",
       "      <th>Right-Distance</th>\n",
       "    </tr>\n",
       "  </thead>\n",
       "  <tbody>\n",
       "    <tr>\n",
       "      <th>0</th>\n",
       "      <td>B</td>\n",
       "      <td>1</td>\n",
       "      <td>1</td>\n",
       "      <td>1</td>\n",
       "      <td>1</td>\n",
       "    </tr>\n",
       "    <tr>\n",
       "      <th>1</th>\n",
       "      <td>R</td>\n",
       "      <td>1</td>\n",
       "      <td>1</td>\n",
       "      <td>1</td>\n",
       "      <td>2</td>\n",
       "    </tr>\n",
       "    <tr>\n",
       "      <th>2</th>\n",
       "      <td>R</td>\n",
       "      <td>1</td>\n",
       "      <td>1</td>\n",
       "      <td>1</td>\n",
       "      <td>3</td>\n",
       "    </tr>\n",
       "    <tr>\n",
       "      <th>3</th>\n",
       "      <td>R</td>\n",
       "      <td>1</td>\n",
       "      <td>1</td>\n",
       "      <td>1</td>\n",
       "      <td>4</td>\n",
       "    </tr>\n",
       "    <tr>\n",
       "      <th>4</th>\n",
       "      <td>R</td>\n",
       "      <td>1</td>\n",
       "      <td>1</td>\n",
       "      <td>1</td>\n",
       "      <td>5</td>\n",
       "    </tr>\n",
       "  </tbody>\n",
       "</table>\n",
       "</div>"
      ],
      "text/plain": [
       "  Class Name  Left-Weight  Left-Distance  Right-Weight  Right-Distance\n",
       "0          B            1              1             1               1\n",
       "1          R            1              1             1               2\n",
       "2          R            1              1             1               3\n",
       "3          R            1              1             1               4\n",
       "4          R            1              1             1               5"
      ]
     },
     "execution_count": 48,
     "metadata": {},
     "output_type": "execute_result"
    }
   ],
   "source": [
    "import numpy as np  \n",
    "import matplotlib.pyplot as plt  \n",
    "import pandas as pd  \n",
    "\n",
    "url = \"https://archive.ics.uci.edu/ml/machine-learning-databases/balance-scale/balance-scale.data\"\n",
    "names = ['Class Name','Left-Weight','Left-Distance','Right-Weight','Right-Distance']\n",
    "dataset = pd.read_csv(url, names=names)\n",
    "dataset.head()"
   ]
  },
  {
   "cell_type": "code",
   "execution_count": 49,
   "metadata": {},
   "outputs": [
    {
     "data": {
      "text/html": [
       "<div>\n",
       "<style scoped>\n",
       "    .dataframe tbody tr th:only-of-type {\n",
       "        vertical-align: middle;\n",
       "    }\n",
       "\n",
       "    .dataframe tbody tr th {\n",
       "        vertical-align: top;\n",
       "    }\n",
       "\n",
       "    .dataframe thead th {\n",
       "        text-align: right;\n",
       "    }\n",
       "</style>\n",
       "<table border=\"1\" class=\"dataframe\">\n",
       "  <thead>\n",
       "    <tr style=\"text-align: right;\">\n",
       "      <th></th>\n",
       "      <th>Class Name</th>\n",
       "      <th>Left-Weight</th>\n",
       "      <th>Left-Distance</th>\n",
       "      <th>Right-Weight</th>\n",
       "      <th>Right-Distance</th>\n",
       "    </tr>\n",
       "  </thead>\n",
       "  <tbody>\n",
       "    <tr>\n",
       "      <th>0</th>\n",
       "      <td>1</td>\n",
       "      <td>1</td>\n",
       "      <td>1</td>\n",
       "      <td>1</td>\n",
       "      <td>1</td>\n",
       "    </tr>\n",
       "    <tr>\n",
       "      <th>1</th>\n",
       "      <td>0</td>\n",
       "      <td>1</td>\n",
       "      <td>1</td>\n",
       "      <td>1</td>\n",
       "      <td>2</td>\n",
       "    </tr>\n",
       "    <tr>\n",
       "      <th>2</th>\n",
       "      <td>0</td>\n",
       "      <td>1</td>\n",
       "      <td>1</td>\n",
       "      <td>1</td>\n",
       "      <td>3</td>\n",
       "    </tr>\n",
       "    <tr>\n",
       "      <th>3</th>\n",
       "      <td>0</td>\n",
       "      <td>1</td>\n",
       "      <td>1</td>\n",
       "      <td>1</td>\n",
       "      <td>4</td>\n",
       "    </tr>\n",
       "    <tr>\n",
       "      <th>4</th>\n",
       "      <td>0</td>\n",
       "      <td>1</td>\n",
       "      <td>1</td>\n",
       "      <td>1</td>\n",
       "      <td>5</td>\n",
       "    </tr>\n",
       "  </tbody>\n",
       "</table>\n",
       "</div>"
      ],
      "text/plain": [
       "   Class Name  Left-Weight  Left-Distance  Right-Weight  Right-Distance\n",
       "0           1            1              1             1               1\n",
       "1           0            1              1             1               2\n",
       "2           0            1              1             1               3\n",
       "3           0            1              1             1               4\n",
       "4           0            1              1             1               5"
      ]
     },
     "execution_count": 49,
     "metadata": {},
     "output_type": "execute_result"
    }
   ],
   "source": [
    "#1. Class Name: 3 (L, B, R)\n",
    "#2. Left-Weight: 5 (1, 2, 3, 4, 5)\n",
    "#3. Left-Distance: 5 (1, 2, 3, 4, 5)\n",
    "#4. Right-Weight: 5 (1, 2, 3, 4, 5)\n",
    "#5. Right-Distance: 5 (1, 2, 3, 4, 5)\n",
    "dataset.loc[dataset['Class Name']=='L', 'Class Name'] = 2\n",
    "dataset.loc[dataset['Class Name']=='B', 'Class Name'] = 1\n",
    "dataset.loc[dataset['Class Name']=='R', 'Class Name'] = 0\n",
    "dataset.head()"
   ]
  },
  {
   "cell_type": "code",
   "execution_count": 50,
   "metadata": {},
   "outputs": [],
   "source": [
    "X = dataset.iloc[:, :-1].values  \n",
    "Y = dataset.iloc[:, -1:].values"
   ]
  },
  {
   "cell_type": "code",
   "execution_count": 96,
   "metadata": {},
   "outputs": [
    {
     "name": "stderr",
     "output_type": "stream",
     "text": [
      "/Users/camilagaldames/anaconda3/lib/python3.6/site-packages/sklearn/utils/validation.py:475: DataConversionWarning: Data with input dtype int64 was converted to float64 by StandardScaler.\n",
      "  warnings.warn(msg, DataConversionWarning)\n",
      "/Users/camilagaldames/anaconda3/lib/python3.6/site-packages/ipykernel_launcher.py:12: DataConversionWarning: A column-vector y was passed when a 1d array was expected. Please change the shape of y to (n_samples, ), for example using ravel().\n",
      "  if sys.path[0] == '':\n"
     ]
    },
    {
     "data": {
      "text/plain": [
       "KNeighborsClassifier(algorithm='auto', leaf_size=30, metric='minkowski',\n",
       "           metric_params=None, n_jobs=1, n_neighbors=100, p=2,\n",
       "           weights='uniform')"
      ]
     },
     "execution_count": 96,
     "metadata": {},
     "output_type": "execute_result"
    }
   ],
   "source": [
    "from sklearn.model_selection import train_test_split\n",
    "from sklearn.preprocessing import StandardScaler\n",
    "X_train, X_test, Y_train, Y_test = train_test_split(X, Y, test_size=0.15)\n",
    "scaler = StandardScaler()  \n",
    "scaler.fit(X_train)\n",
    "\n",
    "X_train = scaler.transform(X_train)  \n",
    "X_test = scaler.transform(X_test)\n",
    "\n",
    "from sklearn.neighbors import KNeighborsClassifier  \n",
    "classifier = KNeighborsClassifier(n_neighbors=100)  \n",
    "classifier.fit(X_train, Y_train)"
   ]
  },
  {
   "cell_type": "code",
   "execution_count": 97,
   "metadata": {},
   "outputs": [],
   "source": [
    "Y_pred = classifier.predict(X_test)"
   ]
  },
  {
   "cell_type": "code",
   "execution_count": 98,
   "metadata": {},
   "outputs": [
    {
     "name": "stdout",
     "output_type": "stream",
     "text": [
      "[[9 7 4 0 1]\n",
      " [9 1 4 1 4]\n",
      " [3 4 1 0 6]\n",
      " [1 4 4 1 7]\n",
      " [2 7 2 7 5]]\n",
      "             precision    recall  f1-score   support\n",
      "\n",
      "          1       0.38      0.43      0.40        21\n",
      "          2       0.04      0.05      0.05        19\n",
      "          3       0.07      0.07      0.07        14\n",
      "          4       0.11      0.06      0.08        17\n",
      "          5       0.22      0.22      0.22        23\n",
      "\n",
      "avg / total       0.18      0.18      0.18        94\n",
      "\n"
     ]
    }
   ],
   "source": [
    "from sklearn.metrics import classification_report, confusion_matrix  \n",
    "print(confusion_matrix(Y_test, Y_pred))  \n",
    "print(classification_report(Y_test, Y_pred))\n"
   ]
  },
  {
   "cell_type": "code",
   "execution_count": 99,
   "metadata": {},
   "outputs": [
    {
     "name": "stderr",
     "output_type": "stream",
     "text": [
      "/Users/camilagaldames/anaconda3/lib/python3.6/site-packages/ipykernel_launcher.py:6: DataConversionWarning: A column-vector y was passed when a 1d array was expected. Please change the shape of y to (n_samples, ), for example using ravel().\n",
      "  \n"
     ]
    }
   ],
   "source": [
    "error = []\n",
    "\n",
    "# Calculating error for K values between 1 and 40\n",
    "for i in range(1, 40):  \n",
    "    knn = KNeighborsClassifier(n_neighbors=i)\n",
    "    knn.fit(X_train, Y_train)\n",
    "    pred_i = knn.predict(X_test)\n",
    "    error.append(np.mean(pred_i != Y_test))"
   ]
  },
  {
   "cell_type": "code",
   "execution_count": 100,
   "metadata": {},
   "outputs": [
    {
     "data": {
      "image/png": "[encoded data removed]",
      "text/plain": [
       "<Figure size 864x432 with 1 Axes>"
      ]
     },
     "metadata": {},
     "output_type": "display_data"
    }
   ],
   "source": [
    "plt.figure(figsize=(12, 6))  \n",
    "plt.plot(range(1, 40), error, color='red', linestyle='dashed', marker='o',  \n",
    "         markerfacecolor='blue', markersize=10)\n",
    "plt.title('Error Rate K Value')  \n",
    "plt.xlabel('K Value')  \n",
    "plt.ylabel('Mean Error')  \n",
    "plt.show()"
   ]
  },
  {
   "cell_type": "code",
   "execution_count": null,
   "metadata": {},
   "outputs": [],
   "source": []
  }
 ],
 "metadata": {
  "kernelspec": {
   "display_name": "Python 3",
   "language": "python",
   "name": "python3"
  },
  "language_info": {
   "codemirror_mode": {
    "name": "ipython",
    "version": 3
   },
   "file_extension": ".py",
   "mimetype": "text/x-python",
   "name": "python",
   "nbconvert_exporter": "python",
   "pygments_lexer": "ipython3",
   "version": "3.6.5"
  }
 },
 "nbformat": 4,
 "nbformat_minor": 2
}
